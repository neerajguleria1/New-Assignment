{
  "nbformat": 4,
  "nbformat_minor": 0,
  "metadata": {
    "colab": {
      "provenance": [],
      "authorship_tag": "ABX9TyOXsCdnXxelmEHnGr4u3EjZ",
      "include_colab_link": true
    },
    "kernelspec": {
      "name": "python3",
      "display_name": "Python 3"
    },
    "language_info": {
      "name": "python"
    }
  },
  "cells": [
    {
      "cell_type": "markdown",
      "metadata": {
        "id": "view-in-github",
        "colab_type": "text"
      },
      "source": [
        "<a href=\"https://colab.research.google.com/github/neerajguleria1/New-Assignment/blob/main/Day5.ipynb\" target=\"_parent\"><img src=\"https://colab.research.google.com/assets/colab-badge.svg\" alt=\"Open In Colab\"/></a>"
      ]
    },
    {
      "cell_type": "code",
      "execution_count": 19,
      "metadata": {
        "colab": {
          "base_uri": "https://localhost:8080/"
        },
        "id": "nony0Mx1zqbI",
        "outputId": "9cc883fe-5ef2-466e-8c15-b737f7434a48"
      },
      "outputs": [
        {
          "output_type": "stream",
          "name": "stdout",
          "text": [
            "driver doing overspeeding and not wearing seatbelt\n",
            "Neeraj->all doing well\n",
            "Neeraj,Good morning\n",
            "Amit,Hello\n",
            "Amit->driver doing overspeeding and not wearing seatbelt\n",
            "Neeraj,Good morning\n",
            "Amit,Hello\n",
            "Rohit->driver going normally but not wearing seatbelt\n",
            "Neeraj,Good morning\n",
            "Amit,Hello\n"
          ]
        }
      ],
      "source": [
        "#Functions\n",
        "def check_driver(speed,seatbelt):\n",
        "  if speed>150 and not seatbelt:\n",
        "    return \"driver doing overspeeding and not wearing seatbelt\"\n",
        "  elif speed>150 and  seatbelt:\n",
        "    return \"driver going normally but not wearing seatbelt\"\n",
        "  else:\n",
        "    return \"all doing well\"\n",
        "status=check_driver(190,False)\n",
        "print(status)\n",
        "\n",
        "# function with list of drivers\n",
        "drivers=[\n",
        "    {\"name\": \"Neeraj\", \"speed\": 150, \"seatbelt\": True},\n",
        "    {\"name\": \"Amit\", \"speed\": 170, \"seatbelt\": False},\n",
        "    {\"name\": \"Rohit\", \"speed\": 200, \"seatbelt\": True}\n",
        "]\n",
        "for driver in drivers:\n",
        "  result=check_driver(driver[\"speed\"],driver[\"seatbelt\"])\n",
        "  print(f\"{driver['name']}->{result}\")\n",
        "\n",
        "\n",
        "  # function with optional parameters\n",
        "\n",
        "  def greet(name,msg=\"Good morning\"):\n",
        "    print(f\"{name},{msg}\")\n",
        "  greet(\"Neeraj\")\n",
        "  greet(\"Amit\",\"Hello\")"
      ]
    },
    {
      "cell_type": "code",
      "source": [
        "# Function Advanced\n",
        "\n",
        "def greet_racer(name,speed,seatbelt):\n",
        "  speed_status=\"doing good\" if speed>250 else \"going slowly\"\n",
        "  seat_status=\"Not wearing\" if not seatbelt else \"wearing\"\n",
        "  return speed_status,seat_status\n",
        "\n",
        "overall_status,speed_status=greet_racer(\"Neeraj\",280,True)\n",
        "print(overall_status,\" \",speed_status)\n",
        "\n",
        "def greet_driver(name,msg=\"Good evening\"):\n",
        "  print(f\"{name},{msg}\")\n",
        "greet_driver(\"Neeraj\")\n",
        "greet_driver(\"sujal\",\"what's up!\")\n",
        "\n",
        "#Lambda\n",
        "\n",
        "check_speed=lambda speed:\"Overspeeding\" if speed>250 else \"Safe\"\n",
        "print(check_speed(299))\n",
        "print(check_speed(222))"
      ],
      "metadata": {
        "colab": {
          "base_uri": "https://localhost:8080/"
        },
        "id": "lzL0PJbk5mKk",
        "outputId": "97c42dea-0765-43a4-9f18-5ea1e569344a"
      },
      "execution_count": 31,
      "outputs": [
        {
          "output_type": "stream",
          "name": "stdout",
          "text": [
            "doing good   wearing\n",
            "Neeraj,Good evening\n",
            "sujal,what's up!\n",
            "Overspeeding\n",
            "Safe\n"
          ]
        }
      ]
    }
  ]
}